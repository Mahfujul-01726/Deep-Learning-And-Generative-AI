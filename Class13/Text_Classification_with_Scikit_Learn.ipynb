{
  "nbformat": 4,
  "nbformat_minor": 0,
  "metadata": {
    "colab": {
      "provenance": []
    },
    "kernelspec": {
      "name": "python3",
      "display_name": "Python 3"
    },
    "language_info": {
      "name": "python"
    }
  },
  "cells": [
    {
      "cell_type": "code",
      "execution_count": 3,
      "metadata": {
        "colab": {
          "base_uri": "https://localhost:8080/"
        },
        "id": "s54Xk0qLk8VA",
        "outputId": "01b630e0-41ec-4162-edad-cbe4c8104380"
      },
      "outputs": [
        {
          "output_type": "stream",
          "name": "stdout",
          "text": [
            "[0]\n"
          ]
        }
      ],
      "source": [
        "from sklearn.feature_extraction.text import CountVectorizer\n",
        "from sklearn.naive_bayes import MultinomialNB\n",
        "from sklearn.pipeline import make_pipeline\n",
        "\n",
        "# Sample dataset\n",
        "texts = [\"I love this movie\", \"This is a terrible film\", \"Great acting and story\", \"Worst movie ever!\"]\n",
        "labels = [1, 0, 1, 0]  # 1 = Positive, 0 = Negative\n",
        "\n",
        "# Build and train the model\n",
        "model = make_pipeline(CountVectorizer(), MultinomialNB())\n",
        "model.fit(texts, labels)\n",
        "\n",
        "# Prediction\n",
        "test_text = [\"I hate this movie\"]\n",
        "print(model.predict(test_text))  # Output: [0] (Negative sentiment)\n"
      ]
    }
  ]
}