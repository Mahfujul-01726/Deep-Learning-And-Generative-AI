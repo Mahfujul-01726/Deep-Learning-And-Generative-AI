{
  "nbformat": 4,
  "nbformat_minor": 0,
  "metadata": {
    "colab": {
      "provenance": []
    },
    "kernelspec": {
      "name": "python3",
      "display_name": "Python 3"
    },
    "language_info": {
      "name": "python"
    }
  },
  "cells": [
    {
      "cell_type": "markdown",
      "source": [
        "# Extracting Email Addresses"
      ],
      "metadata": {
        "id": "ItjKuIMKwGOc"
      }
    },
    {
      "cell_type": "code",
      "execution_count": 1,
      "metadata": {
        "colab": {
          "base_uri": "https://localhost:8080/"
        },
        "id": "WP71n14Mora0",
        "outputId": "f769afa3-3db7-4537-976c-22533673949f"
      },
      "outputs": [
        {
          "output_type": "stream",
          "name": "stdout",
          "text": [
            "['example@gmail.com', 'support@nlp.com']\n"
          ]
        }
      ],
      "source": [
        "import re\n",
        "\n",
        "text = \"My email is example@gmail.com and support@nlp.com\"\n",
        "emails = re.findall(r\"[a-zA-Z0-9._%+-]+@[a-zA-Z0-9.-]+\\.[a-zA-Z]{2,}\", text)\n",
        "print(emails)  # Output: ['example@gmail.com', 'support@nlp.com']\n"
      ]
    },
    {
      "cell_type": "markdown",
      "source": [
        "# Extracting Phone Numbers"
      ],
      "metadata": {
        "id": "JnaOE2UXwMJz"
      }
    },
    {
      "cell_type": "code",
      "source": [
        "text = \"Call me at +880-01726725791 or (+880) 01518632498\"\n",
        "phones = re.findall(r\"\\+?\\d{1,3}[-.\\s]?\\(?\\d{3}\\)?[-.\\s]?\\d{3}[-.\\s]?\\d{4}\", text)\n",
        "print(phones)  # Output: ['+1-800-555-1234', '(123) 456-7890']\n"
      ],
      "metadata": {
        "colab": {
          "base_uri": "https://localhost:8080/"
        },
        "id": "MOaNJVpdvZvV",
        "outputId": "85dcc43e-92b7-4f7c-a813-61e9f8a45b7a"
      },
      "execution_count": 3,
      "outputs": [
        {
          "output_type": "stream",
          "name": "stdout",
          "text": [
            "['+880-0172672579', '01518632498']\n"
          ]
        }
      ]
    },
    {
      "cell_type": "markdown",
      "source": [
        "# Removing Special Characters"
      ],
      "metadata": {
        "id": "yLiqOhYfwPGs"
      }
    },
    {
      "cell_type": "code",
      "source": [
        "text = \"Hello! How's it going? @user #NLP\"\n",
        "clean_text = re.sub(r\"[^a-zA-Z0-9\\s]\", \"\", text)\n",
        "print(clean_text)  # Output: 'Hello Hows it going NLP'\n"
      ],
      "metadata": {
        "colab": {
          "base_uri": "https://localhost:8080/"
        },
        "id": "_AotkIVevZs8",
        "outputId": "a15b017e-1260-4883-e9e9-6b99e9a990dd"
      },
      "execution_count": 4,
      "outputs": [
        {
          "output_type": "stream",
          "name": "stdout",
          "text": [
            "Hello Hows it going user NLP\n"
          ]
        }
      ]
    }
  ]
}