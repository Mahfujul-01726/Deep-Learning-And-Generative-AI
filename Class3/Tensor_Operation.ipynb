{
  "nbformat": 4,
  "nbformat_minor": 0,
  "metadata": {
    "colab": {
      "provenance": []
    },
    "kernelspec": {
      "name": "python3",
      "display_name": "Python 3"
    },
    "language_info": {
      "name": "python"
    }
  },
  "cells": [
    {
      "cell_type": "markdown",
      "source": [
        "# Tensor Operation in PyTorch"
      ],
      "metadata": {
        "id": "SpAWX9_geytI"
      }
    },
    {
      "cell_type": "code",
      "execution_count": 5,
      "metadata": {
        "colab": {
          "base_uri": "https://localhost:8080/"
        },
        "id": "FqrdmXqMeilD",
        "outputId": "ed599257-c5d3-4da3-b419-6abfc30705ab"
      },
      "outputs": [
        {
          "output_type": "stream",
          "name": "stdout",
          "text": [
            "x= tensor([[1, 2],\n",
            "        [3, 4]])\n",
            "y= tensor([[5, 6],\n",
            "        [7, 8]])\n",
            "x+y= tensor([[ 6,  8],\n",
            "        [10, 12]])\n",
            "x*y= tensor([[17, 23],\n",
            "        [39, 53]])\n"
          ]
        }
      ],
      "source": [
        "import torch\n",
        "\n",
        "# Create a tensor\n",
        "x = torch.tensor([[1, 2], [3, 4]])\n",
        "print(\"x=\", x)\n",
        "\n",
        "# Tensor addition\n",
        "y = torch.tensor([[5, 6], [7, 8]])\n",
        "print(\"y=\", y)\n",
        "print(\"x+y=\", x + y)\n",
        "\n",
        "# Matrix multiplication\n",
        "z = torch.matmul(x, y.T)\n",
        "print(\"x*y=\", z)\n",
        "\n",
        "# GPU operations\n",
        "if torch.cuda.is_available():\n",
        "    x = x.to(\"cuda\")  # Move tensor to GPU\n"
      ]
    },
    {
      "cell_type": "markdown",
      "source": [
        "# Tensor Operation in TensorFlow"
      ],
      "metadata": {
        "id": "LVPPVEJsfqAX"
      }
    },
    {
      "cell_type": "code",
      "source": [
        "import tensorflow as tf\n",
        "\n",
        "# Create a tensor\n",
        "x = tf.constant([[1, 2], [3, 4]])\n",
        "print(x)\n",
        "\n",
        "# Tensor addition\n",
        "y = tf.constant([[5, 6], [7, 8]])\n",
        "print(y)\n",
        "print(tf.add(x, y))\n",
        "\n",
        "# Matrix multiplication\n",
        "z = tf.matmul(x, tf.transpose(y))\n",
        "print(z)\n"
      ],
      "metadata": {
        "colab": {
          "base_uri": "https://localhost:8080/"
        },
        "id": "98y9n2mJeodh",
        "outputId": "dc5bde19-5c8e-48b2-ecd9-e3f249b1f480"
      },
      "execution_count": 7,
      "outputs": [
        {
          "output_type": "stream",
          "name": "stdout",
          "text": [
            "tf.Tensor(\n",
            "[[1 2]\n",
            " [3 4]], shape=(2, 2), dtype=int32)\n",
            "tf.Tensor(\n",
            "[[5 6]\n",
            " [7 8]], shape=(2, 2), dtype=int32)\n",
            "tf.Tensor(\n",
            "[[ 6  8]\n",
            " [10 12]], shape=(2, 2), dtype=int32)\n",
            "tf.Tensor(\n",
            "[[17 23]\n",
            " [39 53]], shape=(2, 2), dtype=int32)\n"
          ]
        }
      ]
    }
  ]
}