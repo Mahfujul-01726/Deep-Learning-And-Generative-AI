{
  "nbformat": 4,
  "nbformat_minor": 0,
  "metadata": {
    "colab": {
      "provenance": [],
      "gpuType": "T4"
    },
    "kernelspec": {
      "name": "python3",
      "display_name": "Python 3"
    },
    "language_info": {
      "name": "python"
    },
    "accelerator": "GPU"
  },
  "cells": [
    {
      "cell_type": "markdown",
      "source": [
        "# Setup"
      ],
      "metadata": {
        "id": "iN-dK6hbKY3I"
      }
    },
    {
      "cell_type": "code",
      "execution_count": 1,
      "metadata": {
        "id": "n3K91becJv8s"
      },
      "outputs": [],
      "source": [
        "import torch\n",
        "import torch.nn as nn\n",
        "import torch.nn.functional as F\n",
        "\n",
        "# Device configuration\n",
        "device = torch.device(\"cuda\" if torch.cuda.is_available() else \"cpu\")\n"
      ]
    },
    {
      "cell_type": "markdown",
      "source": [
        "# Prepare Data"
      ],
      "metadata": {
        "id": "U1-jX0YGKcBI"
      }
    },
    {
      "cell_type": "code",
      "source": [
        "# Sample text\n",
        "text = \"hello\"\n",
        "\n",
        "# Create character mappings\n",
        "chars = sorted(list(set(text)))\n",
        "char_to_idx = {ch: i for i, ch in enumerate(chars)}\n",
        "idx_to_char = {i: ch for i, ch in enumerate(chars)}\n",
        "\n",
        "# Encode input and target\n",
        "input_seq = [char_to_idx[ch] for ch in text[:-1]]   # \"hell\"\n",
        "target_seq = [char_to_idx[ch] for ch in text[1:]]   # \"ello\"\n",
        "\n",
        "# Convert to tensors\n",
        "input_tensor = torch.tensor(input_seq).view(1, -1, 1).float().to(device)\n",
        "target_tensor = torch.tensor(target_seq).view(1, -1).long().to(device)\n",
        "\n",
        "vocab_size = len(chars)\n"
      ],
      "metadata": {
        "id": "Fp8EKfLGJ-tw"
      },
      "execution_count": 2,
      "outputs": []
    },
    {
      "cell_type": "markdown",
      "source": [
        "# GRU Model"
      ],
      "metadata": {
        "id": "fwMjTF9tKgHw"
      }
    },
    {
      "cell_type": "code",
      "source": [
        "class GRUTextGen(nn.Module):\n",
        "    def __init__(self, input_size, hidden_size, output_size):\n",
        "        super(GRUTextGen, self).__init__()\n",
        "        self.hidden_size = hidden_size\n",
        "        self.gru = nn.GRU(input_size, hidden_size, batch_first=True)\n",
        "        self.fc = nn.Linear(hidden_size, output_size)\n",
        "\n",
        "    def forward(self, x, h=None):\n",
        "        out, h = self.gru(x, h)\n",
        "        out = self.fc(out)\n",
        "        return out, h\n"
      ],
      "metadata": {
        "id": "kfF3Xw-ZJ-rR"
      },
      "execution_count": 3,
      "outputs": []
    },
    {
      "cell_type": "markdown",
      "source": [
        "# Train Model"
      ],
      "metadata": {
        "id": "lSTVo2MZKi4A"
      }
    },
    {
      "cell_type": "code",
      "source": [
        "model = GRUTextGen(input_size=1, hidden_size=16, output_size=vocab_size).to(device)\n",
        "criterion = nn.CrossEntropyLoss()\n",
        "optimizer = torch.optim.Adam(model.parameters(), lr=0.01)\n",
        "\n",
        "# Training loop\n",
        "for epoch in range(300):\n",
        "    output, _ = model(input_tensor)\n",
        "    loss = criterion(output.view(-1, vocab_size), target_tensor.view(-1))\n",
        "\n",
        "    optimizer.zero_grad()\n",
        "    loss.backward()\n",
        "    optimizer.step()\n",
        "\n",
        "    if epoch % 50 == 0:\n",
        "        print(f\"Epoch {epoch}, Loss: {loss.item():.4f}\")\n"
      ],
      "metadata": {
        "colab": {
          "base_uri": "https://localhost:8080/"
        },
        "id": "ogEP4xyhJ-oh",
        "outputId": "0c7f59a8-750b-4a9e-b824-2695205ba800"
      },
      "execution_count": 4,
      "outputs": [
        {
          "output_type": "stream",
          "name": "stdout",
          "text": [
            "Epoch 0, Loss: 1.2858\n",
            "Epoch 50, Loss: 0.0513\n",
            "Epoch 100, Loss: 0.0036\n",
            "Epoch 150, Loss: 0.0018\n",
            "Epoch 200, Loss: 0.0011\n",
            "Epoch 250, Loss: 0.0008\n"
          ]
        }
      ]
    },
    {
      "cell_type": "markdown",
      "source": [
        "# Text Generation"
      ],
      "metadata": {
        "id": "SaJNhtSJKlNX"
      }
    },
    {
      "cell_type": "code",
      "source": [
        "def generate_text(model, start_char, length=5):\n",
        "    model.eval()\n",
        "    chars_generated = [start_char]\n",
        "    input_char = torch.tensor([[char_to_idx[start_char]]], dtype=torch.float32).view(1, 1, 1).to(device)\n",
        "    hidden = None\n",
        "\n",
        "    for _ in range(length - 1):\n",
        "        output, hidden = model(input_char, hidden)\n",
        "        predicted_idx = output.argmax(dim=2)[:, -1].item()\n",
        "        predicted_char = idx_to_char[predicted_idx]\n",
        "        chars_generated.append(predicted_char)\n",
        "\n",
        "        # Next input is current output\n",
        "        input_char = torch.tensor([[predicted_idx]], dtype=torch.float32).view(1, 1, 1).to(device)\n",
        "\n",
        "    return ''.join(chars_generated)\n",
        "\n",
        "print(\"\\nGenerated Text:\", generate_text(model, start_char='h', length=5))\n"
      ],
      "metadata": {
        "colab": {
          "base_uri": "https://localhost:8080/"
        },
        "id": "GW4XimG-KEox",
        "outputId": "27d88ef6-648f-4dce-c0b7-f2aa24d7bda6"
      },
      "execution_count": 5,
      "outputs": [
        {
          "output_type": "stream",
          "name": "stdout",
          "text": [
            "\n",
            "Generated Text: hello\n"
          ]
        }
      ]
    }
  ]
}