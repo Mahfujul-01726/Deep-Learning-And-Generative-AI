{
  "nbformat": 4,
  "nbformat_minor": 0,
  "metadata": {
    "colab": {
      "provenance": [],
      "gpuType": "T4"
    },
    "kernelspec": {
      "name": "python3",
      "display_name": "Python 3"
    },
    "language_info": {
      "name": "python"
    },
    "accelerator": "GPU"
  },
  "cells": [
    {
      "cell_type": "code",
      "execution_count": 1,
      "metadata": {
        "colab": {
          "base_uri": "https://localhost:8080/"
        },
        "id": "V59hK0yVHtkn",
        "outputId": "ba1ff17d-da34-426c-e0d4-0ee9bef95d75"
      },
      "outputs": [
        {
          "output_type": "stream",
          "name": "stdout",
          "text": [
            "Epoch 0, Loss: 0.8465\n",
            "Epoch 50, Loss: 0.0492\n",
            "Epoch 100, Loss: 0.0001\n",
            "Epoch 150, Loss: 0.0000\n",
            "Epoch 200, Loss: 0.0000\n",
            "Epoch 250, Loss: 0.0000\n",
            "Prediction: [ 1.0001949e+00  2.1091849e-04  9.9898565e-01 -1.9845366e-04\n",
            "  1.0008222e+00]\n"
          ]
        }
      ],
      "source": [
        "import torch\n",
        "import torch.nn as nn\n",
        "\n",
        "# Sample data\n",
        "X = torch.tensor([[0], [1], [0], [1], [0]], dtype=torch.float32).view(1, 5, 1)\n",
        "Y = torch.tensor([[1], [0], [1], [0], [1]], dtype=torch.float32).view(1, 5, 1)\n",
        "\n",
        "# Define GRU model\n",
        "class GRUNet(nn.Module):\n",
        "    def __init__(self, input_size, hidden_size, output_size):\n",
        "        super(GRUNet, self).__init__()\n",
        "        self.hidden_size = hidden_size\n",
        "        self.gru = nn.GRU(input_size, hidden_size, batch_first=True)\n",
        "        self.fc = nn.Linear(hidden_size, output_size)\n",
        "\n",
        "    def forward(self, x):\n",
        "        h0 = torch.zeros(1, x.size(0), self.hidden_size)\n",
        "        out, _ = self.gru(x, h0)\n",
        "        out = self.fc(out)\n",
        "        return out\n",
        "\n",
        "# Instantiate model\n",
        "model = GRUNet(input_size=1, hidden_size=8, output_size=1)\n",
        "\n",
        "# Loss and optimizer\n",
        "criterion = nn.MSELoss()\n",
        "optimizer = torch.optim.Adam(model.parameters(), lr=0.01)\n",
        "\n",
        "# Training loop\n",
        "for epoch in range(300):\n",
        "    output = model(X)\n",
        "    loss = criterion(output, Y)\n",
        "\n",
        "    optimizer.zero_grad()\n",
        "    loss.backward()\n",
        "    optimizer.step()\n",
        "\n",
        "    if epoch % 50 == 0:\n",
        "        print(f\"Epoch {epoch}, Loss: {loss.item():.4f}\")\n",
        "\n",
        "# Predict\n",
        "with torch.no_grad():\n",
        "    prediction = model(X)\n",
        "    print(\"Prediction:\", prediction.view(-1).numpy())\n"
      ]
    },
    {
      "cell_type": "code",
      "source": [],
      "metadata": {
        "id": "a_pP-0IZHwAz"
      },
      "execution_count": null,
      "outputs": []
    }
  ]
}