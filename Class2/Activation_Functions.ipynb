{
  "cells": [
    {
      "cell_type": "code",
      "execution_count": 1,
      "id": "3caf694a",
      "metadata": {
        "id": "3caf694a"
      },
      "outputs": [],
      "source": [
        "# !pip install numpy"
      ]
    },
    {
      "cell_type": "code",
      "execution_count": 2,
      "id": "55ac3bc2",
      "metadata": {
        "id": "55ac3bc2"
      },
      "outputs": [],
      "source": [
        "import numpy as np"
      ]
    },
    {
      "cell_type": "markdown",
      "id": "c0d809a6",
      "metadata": {
        "id": "c0d809a6"
      },
      "source": [
        "# 1. ReLU - Rectified Linear Unit (Hidden Layer)"
      ]
    },
    {
      "cell_type": "code",
      "execution_count": 3,
      "id": "47f174a7",
      "metadata": {
        "id": "47f174a7"
      },
      "outputs": [],
      "source": [
        "def relu(x):\n",
        "    return np.maximum(0, x)\n"
      ]
    },
    {
      "cell_type": "code",
      "execution_count": 4,
      "id": "04873e16",
      "metadata": {
        "id": "04873e16",
        "outputId": "62248c9f-a0f2-40d3-c349-f16ff1593e35",
        "colab": {
          "base_uri": "https://localhost:8080/"
        }
      },
      "outputs": [
        {
          "output_type": "execute_result",
          "data": {
            "text/plain": [
              "10"
            ]
          },
          "metadata": {},
          "execution_count": 4
        }
      ],
      "source": [
        "relu(10)"
      ]
    },
    {
      "cell_type": "code",
      "execution_count": 5,
      "id": "81560793",
      "metadata": {
        "id": "81560793",
        "outputId": "a60ea8f2-8042-405e-b436-c999b2696ec9",
        "colab": {
          "base_uri": "https://localhost:8080/"
        }
      },
      "outputs": [
        {
          "output_type": "execute_result",
          "data": {
            "text/plain": [
              "0"
            ]
          },
          "metadata": {},
          "execution_count": 5
        }
      ],
      "source": [
        "relu(-10)"
      ]
    },
    {
      "cell_type": "code",
      "execution_count": 6,
      "id": "e914d442",
      "metadata": {
        "id": "e914d442",
        "outputId": "db05092b-3a8e-4415-828e-9ba44c38838e",
        "colab": {
          "base_uri": "https://localhost:8080/"
        }
      },
      "outputs": [
        {
          "output_type": "execute_result",
          "data": {
            "text/plain": [
              "array([0, 0, 1, 2])"
            ]
          },
          "metadata": {},
          "execution_count": 6
        }
      ],
      "source": [
        "relu(np.array([-1, 0, 1, 2]))"
      ]
    },
    {
      "cell_type": "markdown",
      "id": "e6ea50d7",
      "metadata": {
        "id": "e6ea50d7"
      },
      "source": [
        "# 2. Leaky ReLU (Hidden Layer)"
      ]
    },
    {
      "cell_type": "markdown",
      "id": "a19d2b17",
      "metadata": {
        "id": "a19d2b17"
      },
      "source": [
        "Leaky ReLU allows a small, positive gradient when the unit is not active."
      ]
    },
    {
      "cell_type": "code",
      "execution_count": 7,
      "id": "0a2a2eb6",
      "metadata": {
        "id": "0a2a2eb6"
      },
      "outputs": [],
      "source": [
        "def leaky_relu(x, alpha=0.01):\n",
        "    return np.where(x > 0, x, x * alpha)\n"
      ]
    },
    {
      "cell_type": "code",
      "execution_count": 8,
      "id": "c4212806",
      "metadata": {
        "id": "c4212806",
        "outputId": "6f502bbf-7d57-41e5-fed4-678e852a1046",
        "colab": {
          "base_uri": "https://localhost:8080/"
        }
      },
      "outputs": [
        {
          "output_type": "execute_result",
          "data": {
            "text/plain": [
              "array(-0.01)"
            ]
          },
          "metadata": {},
          "execution_count": 8
        }
      ],
      "source": [
        "leaky_relu(-1)"
      ]
    },
    {
      "cell_type": "code",
      "execution_count": 9,
      "id": "d243f562",
      "metadata": {
        "id": "d243f562",
        "outputId": "ae972699-9d66-4acf-a609-2733123c4ec7",
        "colab": {
          "base_uri": "https://localhost:8080/"
        }
      },
      "outputs": [
        {
          "output_type": "execute_result",
          "data": {
            "text/plain": [
              "array([-0.01,  0.  ,  1.  ,  2.  ])"
            ]
          },
          "metadata": {},
          "execution_count": 9
        }
      ],
      "source": [
        "leaky_relu(np.array([-1, 0, 1, 2]))"
      ]
    },
    {
      "cell_type": "markdown",
      "id": "6393bc6a",
      "metadata": {
        "id": "6393bc6a"
      },
      "source": [
        "# 3. ELU - Exponential Linear Unit (Hidden Layer)"
      ]
    },
    {
      "cell_type": "markdown",
      "id": "cd1277d3",
      "metadata": {
        "id": "cd1277d3"
      },
      "source": [
        "ELU has a small slope for negative values, unlike ReLU, to avoid the dying ReLU problem."
      ]
    },
    {
      "cell_type": "code",
      "execution_count": 10,
      "id": "ae19a635",
      "metadata": {
        "id": "ae19a635"
      },
      "outputs": [],
      "source": [
        "def elu(x, alpha=1.0):\n",
        "    return np.where(x > 0, x, alpha * (np.exp(x) - 1))"
      ]
    },
    {
      "cell_type": "code",
      "execution_count": 11,
      "id": "8120ec43",
      "metadata": {
        "id": "8120ec43",
        "outputId": "ebeb2a6c-3217-40ac-c7d6-8b6182fb189b",
        "colab": {
          "base_uri": "https://localhost:8080/"
        }
      },
      "outputs": [
        {
          "output_type": "execute_result",
          "data": {
            "text/plain": [
              "array(5.)"
            ]
          },
          "metadata": {},
          "execution_count": 11
        }
      ],
      "source": [
        "elu(5)"
      ]
    },
    {
      "cell_type": "code",
      "execution_count": 12,
      "id": "dc0d1b39",
      "metadata": {
        "id": "dc0d1b39",
        "outputId": "52e011cd-51b9-4960-eab3-6e073ca4910f",
        "colab": {
          "base_uri": "https://localhost:8080/"
        }
      },
      "outputs": [
        {
          "output_type": "execute_result",
          "data": {
            "text/plain": [
              "array([-0.63212056,  0.        ,  1.        ,  2.        ])"
            ]
          },
          "metadata": {},
          "execution_count": 12
        }
      ],
      "source": [
        "elu(np.array([-1, 0, 1, 2]))"
      ]
    },
    {
      "cell_type": "markdown",
      "id": "02a66821",
      "metadata": {
        "id": "02a66821"
      },
      "source": [
        "# 4. Sigmoid (Output Layer & Binaryclass Problem)"
      ]
    },
    {
      "cell_type": "code",
      "execution_count": 13,
      "id": "037e9cb3",
      "metadata": {
        "id": "037e9cb3"
      },
      "outputs": [],
      "source": [
        "def sigmoid(x):\n",
        "    return 1 / (1 + np.exp(-x))\n"
      ]
    },
    {
      "cell_type": "code",
      "execution_count": 14,
      "id": "408f0b7f",
      "metadata": {
        "id": "408f0b7f",
        "outputId": "0c24ef05-e0d8-4358-9b63-2fff777dd9cd",
        "colab": {
          "base_uri": "https://localhost:8080/"
        }
      },
      "outputs": [
        {
          "output_type": "execute_result",
          "data": {
            "text/plain": [
              "array([0.26894142, 0.5       , 0.73105858, 0.88079708])"
            ]
          },
          "metadata": {},
          "execution_count": 14
        }
      ],
      "source": [
        "sigmoid(np.array([-1, 0, 1, 2]))"
      ]
    },
    {
      "cell_type": "markdown",
      "id": "d6afd65e",
      "metadata": {
        "id": "d6afd65e"
      },
      "source": [
        "# 5. Softmax (Output Layer & Multiclass Problem)"
      ]
    },
    {
      "cell_type": "markdown",
      "id": "6d7f80ba",
      "metadata": {
        "id": "6d7f80ba"
      },
      "source": [
        "Softmax converts a real vector to a vector of categorical probabilities."
      ]
    },
    {
      "cell_type": "code",
      "execution_count": 15,
      "id": "1bd42072",
      "metadata": {
        "id": "1bd42072"
      },
      "outputs": [],
      "source": [
        "def softmax(x):\n",
        "    e_x = np.exp(x - np.max(x))\n",
        "    return e_x / e_x.sum(axis=0)\n"
      ]
    },
    {
      "cell_type": "code",
      "execution_count": 16,
      "id": "136ead8b",
      "metadata": {
        "id": "136ead8b",
        "outputId": "f5b365fa-be32-48ac-9575-14aab69e7814",
        "colab": {
          "base_uri": "https://localhost:8080/"
        }
      },
      "outputs": [
        {
          "output_type": "execute_result",
          "data": {
            "text/plain": [
              "array([0.0320586 , 0.08714432, 0.23688282, 0.64391426])"
            ]
          },
          "metadata": {},
          "execution_count": 16
        }
      ],
      "source": [
        "proba = softmax(np.array([-1, 0, 1, 2]))\n",
        "proba"
      ]
    },
    {
      "cell_type": "code",
      "execution_count": 17,
      "id": "2388c5b0",
      "metadata": {
        "id": "2388c5b0",
        "outputId": "414cf309-81a9-46da-ffe3-a99b3da3bef8",
        "colab": {
          "base_uri": "https://localhost:8080/"
        }
      },
      "outputs": [
        {
          "output_type": "execute_result",
          "data": {
            "text/plain": [
              "1.0"
            ]
          },
          "metadata": {},
          "execution_count": 17
        }
      ],
      "source": [
        "sum(proba)"
      ]
    },
    {
      "cell_type": "markdown",
      "id": "b7977ddf",
      "metadata": {
        "id": "b7977ddf"
      },
      "source": [
        "# 6. Swish (Hidden Layer)"
      ]
    },
    {
      "cell_type": "markdown",
      "id": "31667369",
      "metadata": {
        "id": "31667369"
      },
      "source": [
        "Swish is a self-gated activation function."
      ]
    },
    {
      "cell_type": "code",
      "execution_count": 18,
      "id": "94bcf6dc",
      "metadata": {
        "id": "94bcf6dc"
      },
      "outputs": [],
      "source": [
        "def swish(x, beta=1.0):\n",
        "    return x * sigmoid(beta * x)\n"
      ]
    },
    {
      "cell_type": "code",
      "execution_count": 19,
      "id": "aa3867fb",
      "metadata": {
        "id": "aa3867fb",
        "outputId": "16bb282a-93bf-4e7f-9503-8554075c6eaa",
        "colab": {
          "base_uri": "https://localhost:8080/"
        }
      },
      "outputs": [
        {
          "output_type": "execute_result",
          "data": {
            "text/plain": [
              "4.966535745378576"
            ]
          },
          "metadata": {},
          "execution_count": 19
        }
      ],
      "source": [
        "swish(5)"
      ]
    },
    {
      "cell_type": "code",
      "execution_count": 20,
      "id": "ac227b4a",
      "metadata": {
        "id": "ac227b4a",
        "outputId": "2e35de64-0f39-48de-862b-58c332035595",
        "colab": {
          "base_uri": "https://localhost:8080/"
        }
      },
      "outputs": [
        {
          "output_type": "execute_result",
          "data": {
            "text/plain": [
              "array([-0.26894142,  0.        ,  0.73105858,  1.76159416])"
            ]
          },
          "metadata": {},
          "execution_count": 20
        }
      ],
      "source": [
        "swish(np.array([-1, 0, 1, 2]))"
      ]
    },
    {
      "cell_type": "markdown",
      "id": "38e55866",
      "metadata": {
        "id": "38e55866"
      },
      "source": [
        "# 7. Linear (Output Layer)"
      ]
    },
    {
      "cell_type": "markdown",
      "id": "4049385f",
      "metadata": {
        "id": "4049385f"
      },
      "source": [
        "Linear or identity activation function returns the input directly."
      ]
    },
    {
      "cell_type": "code",
      "execution_count": 21,
      "id": "8f680b33",
      "metadata": {
        "id": "8f680b33"
      },
      "outputs": [],
      "source": [
        "def linear(x):\n",
        "    return x"
      ]
    },
    {
      "cell_type": "code",
      "execution_count": 22,
      "id": "c6abc3a2",
      "metadata": {
        "id": "c6abc3a2",
        "outputId": "0fdd7342-f8b4-4877-efc3-2b6666de482a",
        "colab": {
          "base_uri": "https://localhost:8080/"
        }
      },
      "outputs": [
        {
          "output_type": "execute_result",
          "data": {
            "text/plain": [
              "10"
            ]
          },
          "metadata": {},
          "execution_count": 22
        }
      ],
      "source": [
        "linear(10)"
      ]
    },
    {
      "cell_type": "markdown",
      "id": "ef852cf7",
      "metadata": {
        "id": "ef852cf7"
      },
      "source": [
        "# 8. Tanh (Hyperbolic Tangent)"
      ]
    },
    {
      "cell_type": "code",
      "execution_count": 23,
      "id": "26e87100",
      "metadata": {
        "id": "26e87100"
      },
      "outputs": [],
      "source": [
        "def tanh(x):\n",
        "    return np.tanh(x)"
      ]
    },
    {
      "cell_type": "code",
      "execution_count": 24,
      "id": "e3ce4a70",
      "metadata": {
        "id": "e3ce4a70",
        "outputId": "63fd7b9a-7a61-471e-82bd-a2ca9d01d684",
        "colab": {
          "base_uri": "https://localhost:8080/"
        }
      },
      "outputs": [
        {
          "output_type": "execute_result",
          "data": {
            "text/plain": [
              "0.9999999958776927"
            ]
          },
          "metadata": {},
          "execution_count": 24
        }
      ],
      "source": [
        "tanh(10)"
      ]
    },
    {
      "cell_type": "code",
      "execution_count": 25,
      "id": "dbd65fac",
      "metadata": {
        "id": "dbd65fac",
        "outputId": "b351f94c-f751-4c28-fa57-dd1583d2af0b",
        "colab": {
          "base_uri": "https://localhost:8080/"
        }
      },
      "outputs": [
        {
          "output_type": "execute_result",
          "data": {
            "text/plain": [
              "array([-0.76159416,  0.        ,  0.76159416,  0.96402758])"
            ]
          },
          "metadata": {},
          "execution_count": 25
        }
      ],
      "source": [
        "tanh([-1, 0, 1, 2])"
      ]
    },
    {
      "cell_type": "code",
      "execution_count": 26,
      "id": "ae2dc284",
      "metadata": {
        "id": "ae2dc284"
      },
      "outputs": [],
      "source": [
        "import math"
      ]
    },
    {
      "cell_type": "code",
      "execution_count": 27,
      "id": "8560c99c",
      "metadata": {
        "id": "8560c99c"
      },
      "outputs": [],
      "source": [
        "def tanh(x):\n",
        "    result = (math.exp(x) - math.exp(-x)) / (math.exp(x) + math.exp(-x))\n",
        "    return result"
      ]
    },
    {
      "cell_type": "code",
      "execution_count": 28,
      "id": "48ef9ce5",
      "metadata": {
        "id": "48ef9ce5",
        "outputId": "bf9456cb-8aac-457b-c4e4-d257c5321e06",
        "colab": {
          "base_uri": "https://localhost:8080/"
        }
      },
      "outputs": [
        {
          "output_type": "execute_result",
          "data": {
            "text/plain": [
              "-0.7615941559557649"
            ]
          },
          "metadata": {},
          "execution_count": 28
        }
      ],
      "source": [
        "tanh(-1)"
      ]
    }
  ],
  "metadata": {
    "kernelspec": {
      "display_name": "Python 3 (ipykernel)",
      "language": "python",
      "name": "python3"
    },
    "language_info": {
      "codemirror_mode": {
        "name": "ipython",
        "version": 3
      },
      "file_extension": ".py",
      "mimetype": "text/x-python",
      "name": "python",
      "nbconvert_exporter": "python",
      "pygments_lexer": "ipython3",
      "version": "3.9.13"
    },
    "colab": {
      "provenance": []
    }
  },
  "nbformat": 4,
  "nbformat_minor": 5
}