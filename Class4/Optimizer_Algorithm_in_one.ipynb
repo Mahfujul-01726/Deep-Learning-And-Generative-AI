{
  "nbformat": 4,
  "nbformat_minor": 0,
  "metadata": {
    "colab": {
      "provenance": [],
      "gpuType": "T4"
    },
    "kernelspec": {
      "name": "python3",
      "display_name": "Python 3"
    },
    "language_info": {
      "name": "python"
    },
    "accelerator": "GPU"
  },
  "cells": [
    {
      "cell_type": "code",
      "execution_count": 1,
      "metadata": {
        "colab": {
          "base_uri": "https://localhost:8080/"
        },
        "id": "D_YDa-RQGCBd",
        "outputId": "33b2360e-02ab-45f1-b1df-e74cc3726ca1"
      },
      "outputs": [
        {
          "output_type": "stream",
          "name": "stdout",
          "text": [
            "Training with Momentum optimizer...\n"
          ]
        },
        {
          "output_type": "stream",
          "name": "stderr",
          "text": [
            "/usr/local/lib/python3.11/dist-packages/keras/src/layers/core/dense.py:87: UserWarning: Do not pass an `input_shape`/`input_dim` argument to a layer. When using Sequential models, prefer using an `Input(shape)` object as the first layer in the model instead.\n",
            "  super().__init__(activity_regularizer=activity_regularizer, **kwargs)\n"
          ]
        },
        {
          "output_type": "stream",
          "name": "stdout",
          "text": [
            "Momentum Accuracy: 0.8252\n",
            "\n",
            "Training with Nesterov optimizer...\n",
            "Nesterov Accuracy: 0.7902\n",
            "\n",
            "Training with AdaGrad optimizer...\n",
            "AdaGrad Accuracy: 0.7972\n",
            "\n",
            "Training with RMSProp optimizer...\n",
            "RMSProp Accuracy: 0.8112\n",
            "\n",
            "Training with Adam optimizer...\n",
            "Adam Accuracy: 0.7972\n",
            "\n",
            "Training with Nadam optimizer...\n",
            "Nadam Accuracy: 0.7972\n",
            "\n",
            "\n",
            "Final Accuracy Comparison:\n",
            "Momentum: 0.8252\n",
            "Nesterov: 0.7902\n",
            "AdaGrad: 0.7972\n",
            "RMSProp: 0.8112\n",
            "Adam: 0.7972\n",
            "Nadam: 0.7972\n"
          ]
        }
      ],
      "source": [
        "import numpy as np\n",
        "import pandas as pd\n",
        "import tensorflow as tf\n",
        "from tensorflow import keras\n",
        "from tensorflow.keras.models import Sequential\n",
        "from tensorflow.keras.layers import Dense, Dropout\n",
        "from tensorflow.keras.optimizers import SGD, Adagrad, RMSprop, Adam, Nadam\n",
        "from sklearn.model_selection import train_test_split\n",
        "from sklearn.preprocessing import StandardScaler, LabelEncoder\n",
        "\n",
        "# Load Kaggle Titanic Dataset\n",
        "data = pd.read_csv(\"https://raw.githubusercontent.com/datasciencedojo/datasets/master/titanic.csv\")\n",
        "\n",
        "# Preprocessing\n",
        "data = data[['Pclass', 'Sex', 'Age', 'SibSp', 'Parch', 'Fare', 'Embarked', 'Survived']]\n",
        "data.dropna(inplace=True)\n",
        "data['Sex'] = LabelEncoder().fit_transform(data['Sex'])\n",
        "data['Embarked'] = LabelEncoder().fit_transform(data['Embarked'])\n",
        "\n",
        "# Features and labels\n",
        "X = data.drop('Survived', axis=1).values\n",
        "y = data['Survived'].values\n",
        "\n",
        "# Split dataset\n",
        "X_train, X_test, y_train, y_test = train_test_split(X, y, test_size=0.2, random_state=42)\n",
        "\n",
        "# Normalize features\n",
        "scaler = StandardScaler()\n",
        "X_train = scaler.fit_transform(X_train)\n",
        "X_test = scaler.transform(X_test)\n",
        "\n",
        "# Build a simple neural network\n",
        "def create_model():\n",
        "    model = Sequential([\n",
        "        Dense(16, activation='relu', input_shape=(X_train.shape[1],)),\n",
        "        Dropout(0.2),\n",
        "        Dense(8, activation='relu'),\n",
        "        Dense(1, activation='sigmoid')\n",
        "    ])\n",
        "    return model\n",
        "\n",
        "# List of optimizers\n",
        "optimizers = {\n",
        "    \"Momentum\": SGD(learning_rate=0.01, momentum=0.9),\n",
        "    \"Nesterov\": SGD(learning_rate=0.01, momentum=0.9, nesterov=True),\n",
        "    \"AdaGrad\": Adagrad(learning_rate=0.01),\n",
        "    \"RMSProp\": RMSprop(learning_rate=0.01),\n",
        "    \"Adam\": Adam(learning_rate=0.01),\n",
        "    \"Nadam\": Nadam(learning_rate=0.01)\n",
        "}\n",
        "\n",
        "# Train and evaluate models\n",
        "results = {}\n",
        "for name, optimizer in optimizers.items():\n",
        "    print(f\"Training with {name} optimizer...\")\n",
        "    model = create_model()\n",
        "    model.compile(optimizer=optimizer, loss='binary_crossentropy', metrics=['accuracy'])\n",
        "    history = model.fit(X_train, y_train, epochs=50, batch_size=16, verbose=0, validation_data=(X_test, y_test))\n",
        "    loss, acc = model.evaluate(X_test, y_test, verbose=0)\n",
        "    results[name] = acc\n",
        "    print(f\"{name} Accuracy: {acc:.4f}\\n\")\n",
        "\n",
        "# Compare Results\n",
        "print(\"\\nFinal Accuracy Comparison:\")\n",
        "for k, v in results.items():\n",
        "    print(f\"{k}: {v:.4f}\")\n"
      ]
    },
    {
      "cell_type": "code",
      "source": [
        "# Step 1: Install Required Libraries (Run this in your terminal or notebook)\n",
        "# pip install tensorflow pandas numpy matplotlib scikit-learn\n",
        "\n",
        "# Step 2: Import Libraries\n",
        "import tensorflow as tf\n",
        "from tensorflow.keras.models import Sequential\n",
        "from tensorflow.keras.layers import Dense\n",
        "import pandas as pd\n",
        "from sklearn.model_selection import train_test_split\n",
        "from sklearn.preprocessing import StandardScaler, OneHotEncoder\n",
        "import matplotlib.pyplot as plt\n",
        "\n",
        "# Step 3: Load and Preprocess Data\n",
        "# Load the dataset directly from a URL\n",
        "url = \"https://raw.githubusercontent.com/ageron/handson-ml2/master/datasets/housing/housing.csv\"\n",
        "data = pd.read_csv(url)  # Load the dataset from the URL\n",
        "\n",
        "# Drop missing values\n",
        "data = data.dropna()\n",
        "\n",
        "# Separate features and target\n",
        "X = data.drop(\"median_house_value\", axis=1)  # Features\n",
        "y = data[\"median_house_value\"]  # Target\n",
        "\n",
        "# Handle categorical data (ocean_proximity column)\n",
        "X = pd.get_dummies(X, columns=[\"ocean_proximity\"], drop_first=True)\n",
        "\n",
        "# Split the data into training and testing sets\n",
        "X_train, X_test, y_train, y_test = train_test_split(X, y, test_size=0.2, random_state=42)\n",
        "\n",
        "# Standardize the data\n",
        "scaler = StandardScaler()\n",
        "X_train = scaler.fit_transform(X_train)\n",
        "X_test = scaler.transform(X_test)\n",
        "\n",
        "# Step 4: Define the Model\n",
        "def create_model():\n",
        "    model = Sequential([\n",
        "        Dense(64, activation='relu', input_shape=(X_train.shape[1],)),\n",
        "        Dense(32, activation='relu'),\n",
        "        Dense(1)  # Regression output\n",
        "    ])\n",
        "    return model\n",
        "\n",
        "# Step 5: Define Optimizers and Train the Model\n",
        "optimizers = {\n",
        "    \"SGD with Momentum\": tf.keras.optimizers.SGD(learning_rate=0.01, momentum=0.9),\n",
        "    \"Nesterov Momentum\": tf.keras.optimizers.SGD(learning_rate=0.01, momentum=0.9, nesterov=True),\n",
        "    \"AdaGrad\": tf.keras.optimizers.Adagrad(learning_rate=0.01),\n",
        "    \"RMSProp\": tf.keras.optimizers.RMSprop(learning_rate=0.001),\n",
        "    \"Adam\": tf.keras.optimizers.Adam(learning_rate=0.001),\n",
        "    \"Nadam\": tf.keras.optimizers.Nadam(learning_rate=0.001)\n",
        "}\n",
        "\n",
        "# Train and evaluate the model with each optimizer\n",
        "results = {}\n",
        "for opt_name, optimizer in optimizers.items():\n",
        "    print(f\"Training with {opt_name}...\")\n",
        "    model = create_model()\n",
        "    model.compile(optimizer=optimizer, loss='mse', metrics=['mae'])\n",
        "\n",
        "    # Train the model\n",
        "    history = model.fit(X_train, y_train, epochs=20, batch_size=32, validation_split=0.2, verbose=0)\n",
        "\n",
        "    # Evaluate the model\n",
        "    test_loss, test_mae = model.evaluate(X_test, y_test, verbose=0)\n",
        "    results[opt_name] = test_mae\n",
        "\n",
        "    print(f\"{opt_name} - Test MAE: {test_mae:.4f}\\n\")\n",
        "\n",
        "# Step 6: Compare Results\n",
        "plt.figure(figsize=(10, 6))\n",
        "plt.bar(results.keys(), results.values(), color='skyblue')\n",
        "plt.xlabel(\"Optimizer\")\n",
        "plt.ylabel(\"Test MAE\")\n",
        "plt.title(\"Comparison of Optimizers\")\n",
        "plt.xticks(rotation=45)\n",
        "plt.show()"
      ],
      "metadata": {
        "colab": {
          "base_uri": "https://localhost:8080/",
          "height": 1000
        },
        "id": "vwkmoVRiGC0A",
        "outputId": "0b2ff7ce-dbdb-49c4-8f25-f4a9ab020660"
      },
      "execution_count": 3,
      "outputs": [
        {
          "output_type": "stream",
          "name": "stdout",
          "text": [
            "Training with SGD with Momentum...\n"
          ]
        },
        {
          "output_type": "stream",
          "name": "stderr",
          "text": [
            "/usr/local/lib/python3.11/dist-packages/keras/src/layers/core/dense.py:87: UserWarning: Do not pass an `input_shape`/`input_dim` argument to a layer. When using Sequential models, prefer using an `Input(shape)` object as the first layer in the model instead.\n",
            "  super().__init__(activity_regularizer=activity_regularizer, **kwargs)\n"
          ]
        },
        {
          "output_type": "stream",
          "name": "stdout",
          "text": [
            "SGD with Momentum - Test MAE: nan\n",
            "\n",
            "Training with Nesterov Momentum...\n"
          ]
        },
        {
          "output_type": "stream",
          "name": "stderr",
          "text": [
            "/usr/local/lib/python3.11/dist-packages/keras/src/layers/core/dense.py:87: UserWarning: Do not pass an `input_shape`/`input_dim` argument to a layer. When using Sequential models, prefer using an `Input(shape)` object as the first layer in the model instead.\n",
            "  super().__init__(activity_regularizer=activity_regularizer, **kwargs)\n"
          ]
        },
        {
          "output_type": "stream",
          "name": "stdout",
          "text": [
            "Nesterov Momentum - Test MAE: 91201.0547\n",
            "\n",
            "Training with AdaGrad...\n"
          ]
        },
        {
          "output_type": "stream",
          "name": "stderr",
          "text": [
            "/usr/local/lib/python3.11/dist-packages/keras/src/layers/core/dense.py:87: UserWarning: Do not pass an `input_shape`/`input_dim` argument to a layer. When using Sequential models, prefer using an `Input(shape)` object as the first layer in the model instead.\n",
            "  super().__init__(activity_regularizer=activity_regularizer, **kwargs)\n"
          ]
        },
        {
          "output_type": "stream",
          "name": "stdout",
          "text": [
            "AdaGrad - Test MAE: 148037.3438\n",
            "\n",
            "Training with RMSProp...\n"
          ]
        },
        {
          "output_type": "stream",
          "name": "stderr",
          "text": [
            "/usr/local/lib/python3.11/dist-packages/keras/src/layers/core/dense.py:87: UserWarning: Do not pass an `input_shape`/`input_dim` argument to a layer. When using Sequential models, prefer using an `Input(shape)` object as the first layer in the model instead.\n",
            "  super().__init__(activity_regularizer=activity_regularizer, **kwargs)\n"
          ]
        },
        {
          "output_type": "stream",
          "name": "stdout",
          "text": [
            "RMSProp - Test MAE: 56319.8477\n",
            "\n",
            "Training with Adam...\n"
          ]
        },
        {
          "output_type": "stream",
          "name": "stderr",
          "text": [
            "/usr/local/lib/python3.11/dist-packages/keras/src/layers/core/dense.py:87: UserWarning: Do not pass an `input_shape`/`input_dim` argument to a layer. When using Sequential models, prefer using an `Input(shape)` object as the first layer in the model instead.\n",
            "  super().__init__(activity_regularizer=activity_regularizer, **kwargs)\n"
          ]
        },
        {
          "output_type": "stream",
          "name": "stdout",
          "text": [
            "Adam - Test MAE: 55844.4570\n",
            "\n",
            "Training with Nadam...\n"
          ]
        },
        {
          "output_type": "stream",
          "name": "stderr",
          "text": [
            "/usr/local/lib/python3.11/dist-packages/keras/src/layers/core/dense.py:87: UserWarning: Do not pass an `input_shape`/`input_dim` argument to a layer. When using Sequential models, prefer using an `Input(shape)` object as the first layer in the model instead.\n",
            "  super().__init__(activity_regularizer=activity_regularizer, **kwargs)\n"
          ]
        },
        {
          "output_type": "stream",
          "name": "stdout",
          "text": [
            "Nadam - Test MAE: 55899.2070\n",
            "\n"
          ]
        },
        {
          "output_type": "display_data",
          "data": {
            "text/plain": [
              "<Figure size 1000x600 with 1 Axes>"
            ],
            "image/png": "[encoded data removed]"
          },
          "metadata": {}
        }
      ]
    },
    {
      "cell_type": "code",
      "source": [],
      "metadata": {
        "id": "StiNELIsGCxp"
      },
      "execution_count": null,
      "outputs": []
    },
    {
      "cell_type": "code",
      "source": [],
      "metadata": {
        "id": "17zw4OqRHWzA"
      },
      "execution_count": null,
      "outputs": []
    },
    {
      "cell_type": "code",
      "source": [],
      "metadata": {
        "id": "8dOAretpHWw5"
      },
      "execution_count": null,
      "outputs": []
    },
    {
      "cell_type": "code",
      "source": [],
      "metadata": {
        "id": "ysmTTigkHWuL"
      },
      "execution_count": null,
      "outputs": []
    }
  ]
}